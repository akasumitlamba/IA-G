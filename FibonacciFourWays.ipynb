{
 "cells": [
  {
   "cell_type": "code",
   "execution_count": null,
   "id": "d948b543-745e-41b2-bbee-46b0a8d76437",
   "metadata": {},
   "outputs": [],
   "source": [
    "# several ways to write a Python program to generate the Fibonacci series:"
   ]
  },
  {
   "cell_type": "code",
   "execution_count": 1,
   "id": "4c763487-c584-4524-8e01-b01efc84678c",
   "metadata": {},
   "outputs": [
    {
     "name": "stdin",
     "output_type": "stream",
     "text": [
      "enter number to find Fibonacci Series of:  5\n"
     ]
    },
    {
     "name": "stdout",
     "output_type": "stream",
     "text": [
      "[0, 1, 1, 2, 3]\n"
     ]
    },
    {
     "data": {
      "text/plain": [
       "'\\nApproach\\n   - This method uses a loop to iteratively calculate and append Fibonacci numbers to a list.\\n   - It initializes a list with the first two Fibonacci numbers (0 and 1) and then enters a loop.\\n   - In each iteration, it calculates the next Fibonacci number by adding the last two numbers in the list.\\n   - It continues this process until the list contains the desired number of Fibonacci numbers.\\n'"
      ]
     },
     "execution_count": 1,
     "metadata": {},
     "output_type": "execute_result"
    }
   ],
   "source": [
    "# 1. Using a Loop:\n",
    "\n",
    "def fibonacci_with_loop(n):\n",
    "    fib_series = [0, 1]\n",
    "    while len(fib_series) < n:\n",
    "        next_num = fib_series[-1] + fib_series[-2]\n",
    "        fib_series.append(next_num)\n",
    "    return fib_series\n",
    "\n",
    "n = int(input(\"enter number to find Fibonacci Series of: \"))\n",
    "result = fibonacci_with_loop(n)\n",
    "print(result)\n",
    "\n",
    "'''\n",
    "Approach\n",
    "   - This method uses a loop to iteratively calculate and append Fibonacci numbers to a list.\n",
    "   - It initializes a list with the first two Fibonacci numbers (0 and 1) and then enters a loop.\n",
    "   - In each iteration, it calculates the next Fibonacci number by adding the last two numbers in the list.\n",
    "   - It continues this process until the list contains the desired number of Fibonacci numbers.\n",
    "'''"
   ]
  },
  {
   "cell_type": "code",
   "execution_count": 2,
   "id": "3eeba380-320b-48f3-8b3f-ec8439d7e9b6",
   "metadata": {},
   "outputs": [
    {
     "name": "stdin",
     "output_type": "stream",
     "text": [
      "enter number to find Fibonacci Series of:  55\n"
     ]
    },
    {
     "name": "stdout",
     "output_type": "stream",
     "text": [
      "[0, 1, 1, 2, 3, 5, 8, 13, 21, 34, 55, 89, 144, 233, 377, 610, 987, 1597, 2584, 4181, 6765, 10946, 17711, 28657, 46368, 75025, 121393, 196418, 317811, 514229, 832040, 1346269, 2178309, 3524578, 5702887, 9227465, 14930352, 24157817, 39088169, 63245986, 102334155, 165580141, 267914296, 433494437, 701408733, 1134903170, 1836311903, 2971215073, 4807526976, 7778742049, 12586269025, 20365011074, 32951280099, 53316291173, 86267571272]\n"
     ]
    },
    {
     "data": {
      "text/plain": [
       "'\\nApproach\\n   - This method uses a recursive function to generate the Fibonacci series.\\n   - The base cases are defined for `n` less than or equal to 0, 1, and 2.\\n   - For `n` greater than 2, it recursively calls the function to generate the previous Fibonacci numbers and then calculates the next number by summing the last two numbers in the series.\\n'"
      ]
     },
     "execution_count": 2,
     "metadata": {},
     "output_type": "execute_result"
    }
   ],
   "source": [
    "# 2. Using Recursion:\n",
    "def fibonacci_with_recursion(n):\n",
    "    if n <= 0:\n",
    "        return []\n",
    "    if n == 1:\n",
    "        return [0]\n",
    "    if n == 2:\n",
    "        return [0, 1]\n",
    "    prev_series = fibonacci_with_recursion(n - 1)\n",
    "    next_num = prev_series[-1] + prev_series[-2]\n",
    "    return prev_series + [next_num]\n",
    "\n",
    "n = int(input(\"enter number to find Fibonacci Series of: \"))\n",
    "result = fibonacci_with_recursion(n)\n",
    "print(result)\n",
    "\n",
    "\n",
    "'''\n",
    "Approach\n",
    "    -This method uses a recursive function to generate the Fibonacci series.\n",
    "    -The base cases are defined for n less than or equal to 0, 1, and 2.\n",
    "    -For n greater than 2, it recursively calls the function to generate the previous Fibonacci numbers and then calculates the next number by summing the last two numbers in the series\n",
    "'''\n"
   ]
  },
  {
   "cell_type": "code",
   "execution_count": 3,
   "id": "dfac9dcc-539c-4baa-8fba-3e2a85bcd15c",
   "metadata": {},
   "outputs": [
    {
     "name": "stdin",
     "output_type": "stream",
     "text": [
      "enter number to find Fibonacci Series of:  9\n"
     ]
    },
    {
     "name": "stdout",
     "output_type": "stream",
     "text": [
      "[0, 1, 1, 2, 3, 5, 8, 13, 21]\n"
     ]
    },
    {
     "data": {
      "text/plain": [
       "'\\nApproach\\n   - This method is similar to the recursive approach but includes memoization to avoid redundant calculations.\\n   - A dictionary (`memo`) is used to store previously computed Fibonacci series to avoid recalculating them.\\n   - When generating the Fibonacci series for a specific `n`, it first checks if it has already been calculated and stored in `memo`.\\n   - If not, it calculates the series using recursion and stores it in `memo` for future reference.\\n'"
      ]
     },
     "execution_count": 3,
     "metadata": {},
     "output_type": "execute_result"
    }
   ],
   "source": [
    "# 3. Using Memoization (Optimized Recursion):\n",
    "def fibonacci_with_memoization(n, memo={}):\n",
    "    if n in memo:\n",
    "        return memo[n]\n",
    "    if n <= 0:\n",
    "        result = []\n",
    "    elif n == 1:\n",
    "        result = [0]\n",
    "    elif n == 2:\n",
    "        result = [0, 1]\n",
    "    else:\n",
    "        prev_series = fibonacci_with_memoization(n - 1, memo)\n",
    "        next_num = prev_series[-1] + prev_series[-2]\n",
    "        result = prev_series + [next_num]\n",
    "    memo[n] = result\n",
    "    return result\n",
    "\n",
    "n = int(input(\"enter number to find Fibonacci Series of: \"))\n",
    "result = fibonacci_with_memoization(n)\n",
    "print(result)\n",
    "\n",
    "'''\n",
    "Approach\n",
    "   - This method is similar to the recursive approach but includes memoization to avoid redundant calculations.\n",
    "   - A dictionary (`memo`) is used to store previously computed Fibonacci series to avoid recalculating them.\n",
    "   - When generating the Fibonacci series for a specific `n`, it first checks if it has already been calculated and stored in `memo`.\n",
    "   - If not, it calculates the series using recursion and stores it in `memo` for future reference.\n",
    "'''"
   ]
  },
  {
   "cell_type": "code",
   "execution_count": 4,
   "id": "4b47c2fe-31e3-4e44-9ddf-b849c05f56b9",
   "metadata": {},
   "outputs": [
    {
     "name": "stdin",
     "output_type": "stream",
     "text": [
      "enter number to find Fibonacci Series of:  6\n"
     ]
    },
    {
     "name": "stdout",
     "output_type": "stream",
     "text": [
      "[0, 1, 1, 2, 3, 5]\n"
     ]
    },
    {
     "data": {
      "text/plain": [
       "'\\nApproach\\n   - This method employs a Python generator function to yield Fibonacci numbers one at a time without generating the entire series at once.\\n   - It uses two variables (`a` and `b`) to keep track of the last two Fibonacci numbers.\\n   - In each iteration, it yields the current Fibonacci number (`a`) and then updates `a` and `b` to calculate the next number in the sequence.\\n'"
      ]
     },
     "execution_count": 4,
     "metadata": {},
     "output_type": "execute_result"
    }
   ],
   "source": [
    "# 4. Using an Iterative Generator:\n",
    "def fibonacci_generator(n):\n",
    "    a, b = 0, 1\n",
    "    for _ in range(n):\n",
    "        yield a\n",
    "        a, b = b, a + b\n",
    "\n",
    "n = int(input(\"enter number to find Fibonacci Series of: \"))\n",
    "result = list(fibonacci_generator(n))\n",
    "print(result)\n",
    "\n",
    "\n",
    "'''\n",
    "Approach\n",
    "   - This method employs a Python generator function to yield Fibonacci numbers one at a time without generating the entire series at once.\n",
    "   - It uses two variables (`a` and `b`) to keep track of the last two Fibonacci numbers.\n",
    "   - In each iteration, it yields the current Fibonacci number (`a`) and then updates `a` and `b` to calculate the next number in the sequence.\n",
    "'''\n"
   ]
  },
  {
   "cell_type": "code",
   "execution_count": 5,
   "id": "22e75550-7f5a-42d0-8376-872656b4950d",
   "metadata": {},
   "outputs": [
    {
     "data": {
      "text/plain": [
       "'\\nEach approach has its advantages and trade-offs. \\nThe loop method is straightforward and efficient, while the recursive method is less efficient due to redundant calculations. \\nThe memoization approach optimizes the recursive method by avoiding recomputation.\\nThe iterative generator method is memory-efficient as it generates numbers on-the-fly without storing the entire series in memory. \\nThe choice of which method to use depends on your specific requirements and constraints.\\n'"
      ]
     },
     "execution_count": 5,
     "metadata": {},
     "output_type": "execute_result"
    }
   ],
   "source": [
    "'''\n",
    "Each approach has its advantages and trade-offs. \n",
    "The loop method is straightforward and efficient, while the recursive method is less efficient due to redundant calculations. \n",
    "The memoization approach optimizes the recursive method by avoiding recomputation.\n",
    "The iterative generator method is memory-efficient as it generates numbers on-the-fly without storing the entire series in memory. \n",
    "The choice of which method to use depends on your specific requirements and constraints.\n",
    "'''"
   ]
  },
  {
   "cell_type": "code",
   "execution_count": null,
   "id": "f61edbf9-cb9c-43d1-bed1-3e2de6142e02",
   "metadata": {},
   "outputs": [],
   "source": []
  }
 ],
 "metadata": {
  "kernelspec": {
   "display_name": "Python 3 (ipykernel)",
   "language": "python",
   "name": "python3"
  },
  "language_info": {
   "codemirror_mode": {
    "name": "ipython",
    "version": 3
   },
   "file_extension": ".py",
   "mimetype": "text/x-python",
   "name": "python",
   "nbconvert_exporter": "python",
   "pygments_lexer": "ipython3",
   "version": "3.12.0"
  }
 },
 "nbformat": 4,
 "nbformat_minor": 5
}
